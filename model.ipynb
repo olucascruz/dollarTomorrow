{
 "cells": [
  {
   "cell_type": "code",
   "execution_count": 1,
   "metadata": {},
   "outputs": [
    {
     "name": "stdout",
     "output_type": "stream",
     "text": [
      "WARNING:tensorflow:From c:\\Users\\Lucas\\Desktop\\dollarTomorrow\\venv\\lib\\site-packages\\keras\\src\\losses.py:2976: The name tf.losses.sparse_softmax_cross_entropy is deprecated. Please use tf.compat.v1.losses.sparse_softmax_cross_entropy instead.\n",
      "\n"
     ]
    }
   ],
   "source": [
    "# Basic Libs\n",
    "import numpy as np\n",
    "import pandas as pd\n",
    "import matplotlib.pyplot as plt\n",
    "import math\n",
    "# Keras Libs\n",
    "from keras.models import Sequential\n",
    "from keras.layers import Dense, Activation, LSTM, Dropout\n",
    "# Sklearn Libs\n",
    "from sklearn.metrics import mean_squared_error\n",
    "from bcb_service import get_currency"
   ]
  },
  {
   "cell_type": "code",
   "execution_count": 2,
   "metadata": {},
   "outputs": [],
   "source": [
    "def create_timeseries(series, ts_lag =1):\n",
    "  dataX = []\n",
    "  dataY = []\n",
    "\n",
    "  n_rows = len(series) - ts_lag\n",
    "\n",
    "  for i in range(n_rows-1):\n",
    "    a = series[i:(i + ts_lag)]\n",
    "    dataX.append(a)\n",
    "    dataY.append(series[i + ts_lag])\n",
    "\n",
    "  X, Y = np.array(dataX), np.array(dataY)\n",
    "  return X, Y"
   ]
  },
  {
   "cell_type": "code",
   "execution_count": 43,
   "metadata": {},
   "outputs": [
    {
     "name": "stdout",
     "output_type": "stream",
     "text": [
      "               USD\n",
      "Date              \n",
      "2023-10-23  5.0164\n",
      "2023-10-24  5.0065\n",
      "2023-10-25  4.9981\n",
      "2023-10-26  5.0055\n",
      "2023-10-27  4.9480\n",
      "2023-10-30  5.0074\n",
      "2023-10-31  5.0575\n",
      "2023-11-01  5.0194\n",
      "2023-11-03  4.8910\n",
      "2023-11-06  4.8999\n",
      "2023-11-07  4.8670\n",
      "2023-11-08  4.8855\n",
      "2023-11-09  4.9007\n",
      "2023-11-10  4.9219\n",
      "2023-11-13  4.9247\n",
      "2023-11-14  4.8682\n",
      "2023-11-16  4.8575\n",
      "2023-11-17  4.8849\n",
      "2023-11-20  4.8723\n",
      "2023-11-21  4.8806\n",
      "2023-11-22  4.8968\n",
      "2023-11-23  4.8931\n",
      "2023-11-24  4.8927\n",
      "2023-11-27  4.8951\n",
      "2023-11-28  4.8867\n",
      "2023-11-29  4.8933\n",
      "2023-11-30  4.9355\n",
      "2023-12-01  4.9191\n",
      "2023-12-04  4.9091\n",
      "2023-12-05  4.9522\n",
      "2023-12-06  4.9031\n",
      "2023-12-07  4.8949\n",
      "2023-12-08  4.9158\n",
      "2023-12-11  4.9440\n",
      "2023-12-12  4.9476\n",
      "2023-12-13  4.9580\n",
      "2023-12-14  4.8912\n",
      "2023-12-15  4.9397\n",
      "2023-12-18  4.9399\n",
      "2023-12-19  4.8663\n"
     ]
    },
    {
     "data": {
      "text/plain": [
       "40"
      ]
     },
     "execution_count": 43,
     "metadata": {},
     "output_type": "execute_result"
    }
   ],
   "source": [
    "data = get_currency(60)\n",
    "print(data[\"D\"])\n",
    "data = data[\"USD\"]\n",
    "size_data = len(data)\n",
    "size_data"
   ]
  },
  {
   "cell_type": "code",
   "execution_count": 4,
   "metadata": {},
   "outputs": [],
   "source": [
    "train, test = data[0:size_data//2], data[size_data//2:size_data]"
   ]
  },
  {
   "cell_type": "code",
   "execution_count": 5,
   "metadata": {},
   "outputs": [
    {
     "name": "stderr",
     "output_type": "stream",
     "text": [
      "C:\\Users\\Lucas\\AppData\\Local\\Temp\\ipykernel_1664\\2863392632.py:10: FutureWarning: Series.__getitem__ treating keys as positions is deprecated. In a future version, integer keys will always be treated as labels (consistent with DataFrame behavior). To access a value by position, use `ser.iloc[pos]`\n",
      "  dataY.append(series[i + ts_lag])\n"
     ]
    }
   ],
   "source": [
    "\n",
    "ts_lag = 3\n",
    "trainX, trainY = create_timeseries(train, ts_lag)\n",
    "testX, testY = create_timeseries(test, ts_lag)\n",
    "\n",
    "# reshape input data to be [samples, time steps, features]\n",
    "trainX = np.reshape(trainX, (trainX.shape[0], 1, trainX.shape[1]))\n",
    "testX = np.reshape(testX, (testX.shape[0], 1, testX.shape[1]))"
   ]
  },
  {
   "cell_type": "code",
   "execution_count": 6,
   "metadata": {},
   "outputs": [
    {
     "name": "stdout",
     "output_type": "stream",
     "text": [
      "WARNING:tensorflow:From c:\\Users\\Lucas\\Desktop\\dollarTomorrow\\venv\\lib\\site-packages\\keras\\src\\backend.py:873: The name tf.get_default_graph is deprecated. Please use tf.compat.v1.get_default_graph instead.\n",
      "\n",
      "WARNING:tensorflow:From c:\\Users\\Lucas\\Desktop\\dollarTomorrow\\venv\\lib\\site-packages\\keras\\src\\optimizers\\__init__.py:309: The name tf.train.Optimizer is deprecated. Please use tf.compat.v1.train.Optimizer instead.\n",
      "\n",
      "WARNING:tensorflow:From c:\\Users\\Lucas\\Desktop\\dollarTomorrow\\venv\\lib\\site-packages\\keras\\src\\utils\\tf_utils.py:492: The name tf.ragged.RaggedTensorValue is deprecated. Please use tf.compat.v1.ragged.RaggedTensorValue instead.\n",
      "\n"
     ]
    },
    {
     "data": {
      "text/plain": [
       "<keras.src.callbacks.History at 0x260de752200>"
      ]
     },
     "execution_count": 6,
     "metadata": {},
     "output_type": "execute_result"
    }
   ],
   "source": [
    "model = Sequential()\n",
    "model.add(LSTM(200, input_shape = trainX[0].shape))\n",
    "model.add(Dense(50))\n",
    "model.add(Dense(10))\n",
    "model.add(Dense(1))\n",
    "\n",
    "# Compile the model\n",
    "model.compile(loss = \"mean_absolute_error\", optimizer = \"adamax\")\n",
    "\n",
    "# Fit the model\n",
    "model.fit(trainX, trainY, epochs = 500, batch_size = 2, verbose =0)"
   ]
  },
  {
   "cell_type": "code",
   "execution_count": 7,
   "metadata": {},
   "outputs": [
    {
     "name": "stdout",
     "output_type": "stream",
     "text": [
      "1/1 [==============================] - 1s 528ms/step\n",
      "1/1 [==============================] - 0s 31ms/step\n"
     ]
    }
   ],
   "source": [
    "\n",
    "train_predict = model.predict(trainX)\n",
    "test_predict =model.predict(testX)"
   ]
  },
  {
   "cell_type": "code",
   "execution_count": 9,
   "metadata": {},
   "outputs": [
    {
     "name": "stdout",
     "output_type": "stream",
     "text": [
      "O RMSE do testX é: 0.09\n"
     ]
    }
   ],
   "source": [
    "rmse = np.sqrt(mean_squared_error(test_predict, testY))\n",
    "print(\"O RMSE do testX é: {:.2f}\".format(rmse))"
   ]
  },
  {
   "cell_type": "code",
   "execution_count": 42,
   "metadata": {},
   "outputs": [
    {
     "name": "stdout",
     "output_type": "stream",
     "text": [
      "1/1 [==============================] - 0s 53ms/step\n"
     ]
    },
    {
     "name": "stderr",
     "output_type": "stream",
     "text": [
      "C:\\Users\\Lucas\\AppData\\Local\\Temp\\ipykernel_1664\\1580840837.py:2: FutureWarning: Series.__getitem__ treating keys as positions is deprecated. In a future version, integer keys will always be treated as labels (consistent with DataFrame behavior). To access a value by position, use `ser.iloc[pos]`\n",
      "  result = model.predict([[[data[-3], data[-2], data[-1]]]])\n"
     ]
    },
    {
     "data": {
      "text/plain": [
       "5.0016"
      ]
     },
     "execution_count": 42,
     "metadata": {},
     "output_type": "execute_result"
    }
   ],
   "source": [
    "# print(testX)\n",
    "result = model.predict([[[data[-3], data[-2], data[-1]]]])\n",
    "result[0][0]"
   ]
  }
 ],
 "metadata": {
  "kernelspec": {
   "display_name": "venv",
   "language": "python",
   "name": "python3"
  },
  "language_info": {
   "codemirror_mode": {
    "name": "ipython",
    "version": 3
   },
   "file_extension": ".py",
   "mimetype": "text/x-python",
   "name": "python",
   "nbconvert_exporter": "python",
   "pygments_lexer": "ipython3",
   "version": "3.10.11"
  }
 },
 "nbformat": 4,
 "nbformat_minor": 2
}
